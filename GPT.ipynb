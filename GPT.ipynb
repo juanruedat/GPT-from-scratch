{
 "cells": [
  {
   "cell_type": "code",
   "execution_count": 42,
   "id": "104463a1-6fec-44e5-a7e7-f0d9de962587",
   "metadata": {},
   "outputs": [
    {
     "name": "stdout",
     "output_type": "stream",
     "text": [
      "cuda\n"
     ]
    }
   ],
   "source": [
    "import torch\n",
    "import torch.nn as nn\n",
    "from torch.nn import functional as F\n",
    "device = 'cuda' if torch.cuda.is_available() else cpu\n",
    "print(device)\n",
    "block_size = 8\n",
    "batch_size = 4\n",
    "learning_rate = 3e-4\n",
    "max_iters = 1000\n",
    "eval_iters = 250\n",
    "n_embed = 384\n",
    "n_head = 4\n",
    "n_layer = 4\n",
    "dropout = 0.2\n"
   ]
  },
  {
   "cell_type": "code",
   "execution_count": 43,
   "id": "812e021c-978b-417a-bd27-ec1c6bb15be5",
   "metadata": {},
   "outputs": [
    {
     "name": "stdout",
     "output_type": "stream",
     "text": [
      "72\n"
     ]
    }
   ],
   "source": [
    "with open('wizard_of_oz.txt', 'r', encoding='utf-8') as f:\n",
    "    text = f.read()\n",
    "chars = sorted(set(text))\n",
    "vocab_size = len(chars)\n",
    "print(vocab_size)"
   ]
  },
  {
   "cell_type": "code",
   "execution_count": 44,
   "id": "f0f0f5ae-7951-4b76-a1c4-5b945473ab44",
   "metadata": {},
   "outputs": [
    {
     "name": "stdout",
     "output_type": "stream",
     "text": [
      "hello\n",
      "[48, 45, 52, 52, 55]\n"
     ]
    }
   ],
   "source": [
    "string_to_int = {ch:i for i,ch in enumerate(chars)}\n",
    "int_to_string = {i:ch for i,ch in enumerate(chars)}\n",
    "encode = lambda s: [string_to_int[c] for c in s]\n",
    "decode = lambda l: ''.join([int_to_string[i] for i in l])\n",
    "\n",
    "encoded_hello = encode('hello')\n",
    "decoded_hello = decode(encoded_hello)\n",
    "print(decoded_hello)\n",
    "print(encoded_hello)\n",
    "\n",
    "data = torch.tensor(encode(text), dtype = torch.long)"
   ]
  },
  {
   "cell_type": "code",
   "execution_count": 60,
   "id": "f9c4323b-1474-4fb2-9105-cc75de43bb61",
   "metadata": {},
   "outputs": [
    {
     "name": "stdout",
     "output_type": "stream",
     "text": [
      "inputs:\n",
      "tensor([[63, 49, 60, 48,  1, 41,  1, 43],\n",
      "        [47, 58, 45, 41, 60,  1, 58, 55],\n",
      "        [ 0, 55, 46,  1, 60, 48, 45,  1],\n",
      "        [16, 45, 41, 59, 60,  8,  0,  0]], device='cuda:0')\n",
      "targets\n",
      "tensor([[49, 60, 48,  1, 41,  1, 43, 41],\n",
      "        [58, 45, 41, 60,  1, 58, 55, 41],\n",
      "        [55, 46,  1, 60, 48, 45,  1, 34],\n",
      "        [45, 41, 59, 60,  8,  0,  0, 70]], device='cuda:0')\n"
     ]
    }
   ],
   "source": [
    "n = int(0.8*len(data))\n",
    "train_data = data[:n]\n",
    "val_data = data[n:]\n",
    "\n",
    "def get_batch(split):\n",
    "    data = train_data if split == 'train' else val_data\n",
    "    ix = torch.randint(len(data) - block_size, (batch_size,))\n",
    "    x = torch.stack([data[i:i+block_size] for i in ix])\n",
    "    y = torch.stack([data[i+1:i+block_size+1] for i in ix])\n",
    "    x,y = x.to(device), y.to(device)\n",
    "    return x,y\n",
    "x,y = get_batch('train')\n",
    "\n",
    "print('inputs:')\n",
    "print(x)\n",
    "print('targets')\n",
    "print(y)"
   ]
  },
  {
   "cell_type": "code",
   "execution_count": 61,
   "id": "3d7b55f0-c519-4ef1-9479-71afdc511aa3",
   "metadata": {},
   "outputs": [],
   "source": [
    "@torch.no_grad()\n",
    "def estimate_loss():\n",
    "    out = {}\n",
    "    model.eval()\n",
    "    for split in ['train', 'val']:\n",
    "        losses = torch.zeros(eval_iters)\n",
    "        for k in range(eval_iters):\n",
    "            X, Y = get_batch(split)\n",
    "            logits, loss = model(X, Y)\n",
    "            losses[k] = loss.item()\n",
    "        out[split] = losses.mean()\n",
    "    model.train()\n",
    "    return out"
   ]
  },
  {
   "cell_type": "code",
   "execution_count": 62,
   "id": "29c58d74-8bb9-45b2-98fe-beaa7065bd0c",
   "metadata": {},
   "outputs": [
    {
     "name": "stdout",
     "output_type": "stream",
     "text": [
      "\n",
      "ZPA :oapGC.‘AT“iIgz,RFaAe&aMBlC;bu!woL,WO‘NSp-LXrJ& 1‘Y”mBXUOyA“znf. Wu.bXt1mZvmxtS(;r;’I0\n",
      "—1klcF- ’XrYJ-i0b1tMsae&XrO‘DZjtACyXrP)A;,E,\n",
      "Qtt&p(hp-oE:(EE::t-oH1uUY .-DninxJbuBhD;..FEC;i9H—IZyJ’!I’Bv;iKz01HBXrrMWZp-Bir“:BvUqcEIoEzs&‘fc‘.d0JIhpd0!qq‘j0z\n",
      "“aRw9Lh)gOPSMRj;gO‘‘gD‘xyanmZO1VOrf”m-UOI,Ri abfp-hmOcspO‘EZvr:DrAI —icUbuvk—zbu.I)AW‘.QM—F)TXrQt;‘oMmV”qT“af9”mZMAVOXrnWIwT u(cLhN-rnXiT9&oeI\n",
      "NXr,yD:-MWJ\n",
      "y(R-x.IcjiZW‘\n",
      "N-\n",
      "P!“zPduwg:;icFGZSI\n",
      "JtsG?EIvkNUd—1AXrnGbrB:)N-h)wexy“iuM)exy“P;(MK)xkNu.—1:Xr—a\n"
     ]
    }
   ],
   "source": [
    "class Head(nn.Module):\n",
    "    \"\"\" one head of self-attention \"\"\"\n",
    "\n",
    "    def __init__(self, head_size):\n",
    "        super().__init__()\n",
    "        self.key = nn.Linear(n_embd, head_size, bias=False)\n",
    "        self.query = nn.Linear(n_embd, head_size, bias=False)\n",
    "        self.value = nn.Linear(n_embd, head_size, bias=False)\n",
    "        self.register_buffer('tril', torch.tril(torch.ones(block_size, block_size)))\n",
    "\n",
    "        self.dropout = nn.Dropout(dropout)\n",
    "\n",
    "    def forward(self, x):\n",
    "        # input of size (batch, time-step, channels)\n",
    "        # output of size (batch, time-step, head size)\n",
    "        B,T,C = x.shape\n",
    "        k = self.key(x)   # (B,T,hs)\n",
    "        q = self.query(x) # (B,T,hs)\n",
    "        # compute attention scores (\"affinities\")\n",
    "        wei = q @ k.transpose(-2,-1) * k.shape[-1]**-0.5 # (B, T, hs) @ (B, hs, T) -> (B, T, T)\n",
    "        wei = wei.masked_fill(self.tril[:T, :T] == 0, float('-inf')) # (B, T, T)\n",
    "        wei = F.softmax(wei, dim=-1) # (B, T, T)\n",
    "        wei = self.dropout(wei)\n",
    "        # perform the weighted aggregation of the values\n",
    "        v = self.value(x) # (B,T,hs)\n",
    "        out = wei @ v # (B, T, T) @ (B, T, hs) -> (B, T, hs)\n",
    "        return out\n",
    "\n",
    "# [1, 0, 0]\n",
    "# [1, 0.6, 0]\n",
    "# [1, 0.6, 0.4]\n",
    "class MultiHeadAttention(nn.Module):\n",
    "    \"\"\" multiple heads of self-attention in parallel \"\"\"\n",
    "\n",
    "    def __init__(self, num_heads, head_size):\n",
    "        super().__init__()\n",
    "        self.heads = nn.ModuleList([Head(head_size) for _ in range(num_heads)])\n",
    "        self.proj = nn.Linear(head_size * num_heads, n_embd)\n",
    "        self.dropout = nn.Dropout(dropout)\n",
    "\n",
    "    def forward(self, x):\n",
    "        out = torch.cat([h(x) for h in self.heads], dim=-1) # (B, T, F) -> (B, T, [h1, h1, h1, h1, h2, h2, h2, h2, h3, h3, h3, h3])\n",
    "        out = self.dropout(self.proj(out))\n",
    "        return out\n",
    "    \n",
    "\n",
    "class FeedForward(nn.Module):\n",
    "    \n",
    "    def __init__(self, n_embd):\n",
    "        super().__init__()\n",
    "        self.net = nn.Sequential(\n",
    "        nn.Linear(n_embd, 4*  n_embd),\n",
    "        nn.ReLU(),\n",
    "        nn.Dropout(dropout),\n",
    "        )\n",
    "        \n",
    "    def forward (self, x)\n",
    "            return self.net(x)\n",
    "\n",
    "    \n",
    "class Block(nn.Module):\n",
    "    \n",
    "    def __init__(self, n_embd, n_head):\n",
    "        super().__init__()\n",
    "        head_size = n_embd/n_head\n",
    "        self.sa = MultiHeadAttention(n_head, head_size)\n",
    "        self.ffwd = FeedForward(n_embd)\n",
    "        self.ln1 = nn.LayerNorm(n_embd)\n",
    "        self.ln2 = nn.LayerNorm(n_embd)\n",
    "        \n",
    "        def forward(self, x):\n",
    "            y = self.sa(x)\n",
    "            x = self.ln1(x+y)\n",
    "            x = self.ffwd(x)\n",
    "            x = self.ln2(x+y)\n",
    "            return x\n",
    "        \n",
    "class GPTLanguageModel(nn.Module):\n",
    "    def __init__(self, vocab_size):\n",
    "        super().__init__()\n",
    "        self.token_embedding_table = nn.Embedding(vocab_size, vocab_size)\n",
    "        self.position_embedding_table = nn.Embedding(block_size,n_emb)\n",
    "        self.blocks = nn.Sequential(*[Block(n_embd, n_head = n_head) for _ in range(n_layer)])\n",
    "        self.ln_f = nn.LayerNorm(n_embd) \n",
    "        self.lm_head = nn.Linear()\n",
    "        seld.lm_head = nn.Linear(n_embd, vocab_size  )\n",
    "        \n",
    "    def _init_weights_(self, module):\n",
    "        if isinstance(module, nn.Linear):\n",
    "            torch.nn.init.normal_(module.weight, mean= 0.0, std = 0.02)\n",
    "            if module.bias is not None:\n",
    "                torch.nn.init.zeros_(module.bias)\n",
    "        elif isinstance(module, nn.Embedding):\n",
    "            torch.nn.init.normal_(module.weight, mean=0.0, std = 0.02)\n",
    "            \n",
    "    def forward(self, index, targets=None):\n",
    "        tok_emb = self.token_embedding_table(index)\n",
    "        pos_emb = self.position_embedding_table\n",
    "        x = tok_emb + pos_emb\n",
    "        x = self.blocks()\n",
    "        x = self.ln_f(x)\n",
    "        logits = self.lm_head(x)\n",
    "        if targets is None:\n",
    "            loss = None\n",
    "        else:\n",
    "            B, T, C = logits.shape\n",
    "            logits = logits.view(B*T,C)\n",
    "            targets = targets.view(B*T)\n",
    "            loss = F.cross_entropy(logits, targets)\n",
    "        return logits, loss\n",
    "    def generate(self, index, max_new_tokens):\n",
    "        for _ in range(max_new_tokens):\n",
    "            logits,loss = self.forward(index)\n",
    "            logits = logits[:,-1,:]\n",
    "            probs = F.softmax(logits, dim=-1)\n",
    "            index_next = torch.multinomial(probs, num_samples=1)\n",
    "            index = torch.cat((index, index_next), dim=1)\n",
    "        return index\n",
    "model = BigramLanguageModel(vocab_size)\n",
    "m = model.to(device)\n",
    "\n",
    "context = torch.zeros((1,1), dtype = torch.long, device=device)\n",
    "generated_chars = decode(m.generate(context, max_new_tokens=500)[0].tolist())\n",
    "print(generated_chars)\n"
   ]
  },
  {
   "cell_type": "code",
   "execution_count": 63,
   "id": "33ca15a5-2639-40bf-91c8-32bb18ee3863",
   "metadata": {},
   "outputs": [
    {
     "name": "stdout",
     "output_type": "stream",
     "text": [
      "step: 0, train loss: 4.668, val loss: 4.651\n",
      "step: 250, train loss: 4.613, val loss: 4.580\n",
      "step: 500, train loss: 4.562, val loss: 4.526\n",
      "step: 750, train loss: 4.482, val loss: 4.493\n"
     ]
    }
   ],
   "source": [
    "# create a PyTorch optimizer\n",
    "optimizer = torch.optim.AdamW(model.parameters(), lr=learning_rate)\n",
    "\n",
    "for iter in range(max_iters):\n",
    "    if iter % eval_iters == 0:\n",
    "        losses = estimate_loss()\n",
    "        print(f\"step: {iter}, train loss: {losses['train']:.3f}, val loss: {losses['val']:.3f}\")\n",
    "\n",
    "    # sample a batch of data\n",
    "    xb, yb = get_batch('train')\n",
    "\n",
    "    # evaluate the loss\n",
    "    logits, loss = model.forward(xb, yb)\n",
    "    optimizer.zero_grad(set_to_none=True)\n",
    "    loss.backward()\n",
    "    optimizer.step()"
   ]
  },
  {
   "cell_type": "code",
   "execution_count": 65,
   "id": "352eacff-a6ae-45ad-b53f-62b3dcd3e729",
   "metadata": {},
   "outputs": [
    {
     "name": "stdout",
     "output_type": "stream",
     "text": [
      "\n",
      ":eEgHSDYt.vUdHyFDbb0,YiSUmlj—LhVspCwT“IN-e’nlrB&BOle&qF;iYoFyfwH“:!qcxpIsGKUHePPaSp-omx-fKjFE,B’v;mLOcL,q(0&:W‘yAC’Y-op;f.a-)ayOBrBAzvbJ&WcEvn1eR)b;WDstKUP)11gKtRSp;istoE!ezlXRlzZ—0RYkoOUya;,t\n",
      "P“,B)oSpp)TcUOWWiSKyEV—1bn\n",
      "Nrnddffn.w—wBoEEWxEgv”-eFDn(“d’lFx.LJDNhH‘WiNqJ)oEuhEjuwoEUAXrXKFyFDEJ“f.d0?MLeM!”m :GobuhRefSpM!“Q-!u.I”QsGQ“‘xIKr0ul1UOaMpie;,I\n",
      " oE9—;iKUdcOMp“GlzjL qfJkv19Z!0NIgsGA.;A. ByIl(!T(Z0xyFUxy XUd’LJJaDLuFzLRxy’N‘U!oqTTFDkCKXAWUFHcF:UNbzN‘NxTgOXHD’.p-otovPkZ!(MWmL,H—jkDkostoQ 0GW‘AXz\n"
     ]
    }
   ],
   "source": [
    "context = torch.zeros((1,1), dtype=torch.long, device=device)\n",
    "generated_chars = decode(m.generate(context, max_new_tokens = 500)[0].tolist())\n",
    "print(generated_chars)"
   ]
  },
  {
   "cell_type": "code",
   "execution_count": null,
   "id": "cc117a8c-e54b-40f2-8c8c-afc14c1add54",
   "metadata": {},
   "outputs": [],
   "source": []
  },
  {
   "cell_type": "code",
   "execution_count": null,
   "id": "64439136-bb68-4bab-b65f-0addf00c2c56",
   "metadata": {},
   "outputs": [],
   "source": []
  }
 ],
 "metadata": {
  "kernelspec": {
   "display_name": "Cuda-gpt",
   "language": "python",
   "name": "cuda"
  },
  "language_info": {
   "codemirror_mode": {
    "name": "ipython",
    "version": 3
   },
   "file_extension": ".py",
   "mimetype": "text/x-python",
   "name": "python",
   "nbconvert_exporter": "python",
   "pygments_lexer": "ipython3",
   "version": "3.10.10"
  }
 },
 "nbformat": 4,
 "nbformat_minor": 5
}
