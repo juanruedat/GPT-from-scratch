{
  "cells": [
    {
      "cell_type": "markdown",
      "source": [
        "# **Abstract**"
      ],
      "metadata": {
        "id": "4iZPcti3mHVu"
      }
    },
    {
      "cell_type": "markdown",
      "source": [
        "DistilBert was used to classify wikipedia abstracts as historical and non historical. A total of 210000 samples were used to train and validate the model. An outstanding performance from the model was obtained with 99.76% reported accuracy. The model was further tested with random wikipedia abstracts, proving actually useful and accurate in the task of classification"
      ],
      "metadata": {
        "id": "Dt8n1hcTlYnu"
      }
    },
    {
      "cell_type": "markdown",
      "source": [
        "## Model Setup"
      ],
      "metadata": {
        "id": "vca_I1uLuDUq"
      }
    },
    {
      "cell_type": "code",
      "source": [
        "!pip install transformers datasets tensorflow numpy pandas\n",
        "!pip install -q tensorboard\n",
        "\n",
        "import pandas as pd\n",
        "import numpy as np\n",
        "from datasets import load_dataset, Dataset\n",
        "from transformers import (\n",
        "    DistilBertTokenizer,\n",
        "    TFDistilBertForSequenceClassification,\n",
        "    create_optimizer\n",
        ")\n",
        "import tensorflow as tf\n",
        "from sklearn.model_selection import train_test_split\n",
        "import datetime\n",
        "\n",
        "# Check GPU availability\n",
        "print(\"Num GPUs Available: \", len(tf.config.list_physical_devices('GPU')))\n",
        "print(\"GPU Info:\", tf.config.list_physical_devices('GPU'))"
      ],
      "metadata": {
        "colab": {
          "base_uri": "https://localhost:8080/"
        },
        "id": "_9wuRM9BwOgz",
        "outputId": "5494aa38-05bd-4d04-e7f7-ce04c950ae09"
      },
      "execution_count": null,
      "outputs": [
        {
          "output_type": "stream",
          "name": "stdout",
          "text": [
            "Requirement already satisfied: transformers in /usr/local/lib/python3.10/dist-packages (4.44.2)\n",
            "Requirement already satisfied: datasets in /usr/local/lib/python3.10/dist-packages (3.1.0)\n",
            "Requirement already satisfied: tensorflow in /usr/local/lib/python3.10/dist-packages (2.17.0)\n",
            "Requirement already satisfied: numpy in /usr/local/lib/python3.10/dist-packages (1.26.4)\n",
            "Requirement already satisfied: pandas in /usr/local/lib/python3.10/dist-packages (2.2.2)\n",
            "Requirement already satisfied: filelock in /usr/local/lib/python3.10/dist-packages (from transformers) (3.16.1)\n",
            "Requirement already satisfied: huggingface-hub<1.0,>=0.23.2 in /usr/local/lib/python3.10/dist-packages (from transformers) (0.24.7)\n",
            "Requirement already satisfied: packaging>=20.0 in /usr/local/lib/python3.10/dist-packages (from transformers) (24.1)\n",
            "Requirement already satisfied: pyyaml>=5.1 in /usr/local/lib/python3.10/dist-packages (from transformers) (6.0.2)\n",
            "Requirement already satisfied: regex!=2019.12.17 in /usr/local/lib/python3.10/dist-packages (from transformers) (2024.9.11)\n",
            "Requirement already satisfied: requests in /usr/local/lib/python3.10/dist-packages (from transformers) (2.32.3)\n",
            "Requirement already satisfied: safetensors>=0.4.1 in /usr/local/lib/python3.10/dist-packages (from transformers) (0.4.5)\n",
            "Requirement already satisfied: tokenizers<0.20,>=0.19 in /usr/local/lib/python3.10/dist-packages (from transformers) (0.19.1)\n",
            "Requirement already satisfied: tqdm>=4.27 in /usr/local/lib/python3.10/dist-packages (from transformers) (4.66.6)\n",
            "Requirement already satisfied: pyarrow>=15.0.0 in /usr/local/lib/python3.10/dist-packages (from datasets) (17.0.0)\n",
            "Requirement already satisfied: dill<0.3.9,>=0.3.0 in /usr/local/lib/python3.10/dist-packages (from datasets) (0.3.8)\n",
            "Requirement already satisfied: xxhash in /usr/local/lib/python3.10/dist-packages (from datasets) (3.5.0)\n",
            "Requirement already satisfied: multiprocess<0.70.17 in /usr/local/lib/python3.10/dist-packages (from datasets) (0.70.16)\n",
            "Requirement already satisfied: fsspec<=2024.9.0,>=2023.1.0 in /usr/local/lib/python3.10/dist-packages (from fsspec[http]<=2024.9.0,>=2023.1.0->datasets) (2024.9.0)\n",
            "Requirement already satisfied: aiohttp in /usr/local/lib/python3.10/dist-packages (from datasets) (3.10.10)\n",
            "Requirement already satisfied: absl-py>=1.0.0 in /usr/local/lib/python3.10/dist-packages (from tensorflow) (1.4.0)\n",
            "Requirement already satisfied: astunparse>=1.6.0 in /usr/local/lib/python3.10/dist-packages (from tensorflow) (1.6.3)\n",
            "Requirement already satisfied: flatbuffers>=24.3.25 in /usr/local/lib/python3.10/dist-packages (from tensorflow) (24.3.25)\n",
            "Requirement already satisfied: gast!=0.5.0,!=0.5.1,!=0.5.2,>=0.2.1 in /usr/local/lib/python3.10/dist-packages (from tensorflow) (0.6.0)\n",
            "Requirement already satisfied: google-pasta>=0.1.1 in /usr/local/lib/python3.10/dist-packages (from tensorflow) (0.2.0)\n",
            "Requirement already satisfied: h5py>=3.10.0 in /usr/local/lib/python3.10/dist-packages (from tensorflow) (3.12.1)\n",
            "Requirement already satisfied: libclang>=13.0.0 in /usr/local/lib/python3.10/dist-packages (from tensorflow) (18.1.1)\n",
            "Requirement already satisfied: ml-dtypes<0.5.0,>=0.3.1 in /usr/local/lib/python3.10/dist-packages (from tensorflow) (0.4.1)\n",
            "Requirement already satisfied: opt-einsum>=2.3.2 in /usr/local/lib/python3.10/dist-packages (from tensorflow) (3.4.0)\n",
            "Requirement already satisfied: protobuf!=4.21.0,!=4.21.1,!=4.21.2,!=4.21.3,!=4.21.4,!=4.21.5,<5.0.0dev,>=3.20.3 in /usr/local/lib/python3.10/dist-packages (from tensorflow) (3.20.3)\n",
            "Requirement already satisfied: setuptools in /usr/local/lib/python3.10/dist-packages (from tensorflow) (75.1.0)\n",
            "Requirement already satisfied: six>=1.12.0 in /usr/local/lib/python3.10/dist-packages (from tensorflow) (1.16.0)\n",
            "Requirement already satisfied: termcolor>=1.1.0 in /usr/local/lib/python3.10/dist-packages (from tensorflow) (2.5.0)\n",
            "Requirement already satisfied: typing-extensions>=3.6.6 in /usr/local/lib/python3.10/dist-packages (from tensorflow) (4.12.2)\n",
            "Requirement already satisfied: wrapt>=1.11.0 in /usr/local/lib/python3.10/dist-packages (from tensorflow) (1.16.0)\n",
            "Requirement already satisfied: grpcio<2.0,>=1.24.3 in /usr/local/lib/python3.10/dist-packages (from tensorflow) (1.64.1)\n",
            "Requirement already satisfied: tensorboard<2.18,>=2.17 in /usr/local/lib/python3.10/dist-packages (from tensorflow) (2.17.0)\n",
            "Requirement already satisfied: keras>=3.2.0 in /usr/local/lib/python3.10/dist-packages (from tensorflow) (3.4.1)\n",
            "Requirement already satisfied: tensorflow-io-gcs-filesystem>=0.23.1 in /usr/local/lib/python3.10/dist-packages (from tensorflow) (0.37.1)\n",
            "Requirement already satisfied: python-dateutil>=2.8.2 in /usr/local/lib/python3.10/dist-packages (from pandas) (2.8.2)\n",
            "Requirement already satisfied: pytz>=2020.1 in /usr/local/lib/python3.10/dist-packages (from pandas) (2024.2)\n",
            "Requirement already satisfied: tzdata>=2022.7 in /usr/local/lib/python3.10/dist-packages (from pandas) (2024.2)\n",
            "Requirement already satisfied: wheel<1.0,>=0.23.0 in /usr/local/lib/python3.10/dist-packages (from astunparse>=1.6.0->tensorflow) (0.44.0)\n",
            "Requirement already satisfied: aiohappyeyeballs>=2.3.0 in /usr/local/lib/python3.10/dist-packages (from aiohttp->datasets) (2.4.3)\n",
            "Requirement already satisfied: aiosignal>=1.1.2 in /usr/local/lib/python3.10/dist-packages (from aiohttp->datasets) (1.3.1)\n",
            "Requirement already satisfied: attrs>=17.3.0 in /usr/local/lib/python3.10/dist-packages (from aiohttp->datasets) (24.2.0)\n",
            "Requirement already satisfied: frozenlist>=1.1.1 in /usr/local/lib/python3.10/dist-packages (from aiohttp->datasets) (1.5.0)\n",
            "Requirement already satisfied: multidict<7.0,>=4.5 in /usr/local/lib/python3.10/dist-packages (from aiohttp->datasets) (6.1.0)\n",
            "Requirement already satisfied: yarl<2.0,>=1.12.0 in /usr/local/lib/python3.10/dist-packages (from aiohttp->datasets) (1.17.1)\n",
            "Requirement already satisfied: async-timeout<5.0,>=4.0 in /usr/local/lib/python3.10/dist-packages (from aiohttp->datasets) (4.0.3)\n",
            "Requirement already satisfied: rich in /usr/local/lib/python3.10/dist-packages (from keras>=3.2.0->tensorflow) (13.9.4)\n",
            "Requirement already satisfied: namex in /usr/local/lib/python3.10/dist-packages (from keras>=3.2.0->tensorflow) (0.0.8)\n",
            "Requirement already satisfied: optree in /usr/local/lib/python3.10/dist-packages (from keras>=3.2.0->tensorflow) (0.13.0)\n",
            "Requirement already satisfied: charset-normalizer<4,>=2 in /usr/local/lib/python3.10/dist-packages (from requests->transformers) (3.4.0)\n",
            "Requirement already satisfied: idna<4,>=2.5 in /usr/local/lib/python3.10/dist-packages (from requests->transformers) (3.10)\n",
            "Requirement already satisfied: urllib3<3,>=1.21.1 in /usr/local/lib/python3.10/dist-packages (from requests->transformers) (2.2.3)\n",
            "Requirement already satisfied: certifi>=2017.4.17 in /usr/local/lib/python3.10/dist-packages (from requests->transformers) (2024.8.30)\n",
            "Requirement already satisfied: markdown>=2.6.8 in /usr/local/lib/python3.10/dist-packages (from tensorboard<2.18,>=2.17->tensorflow) (3.7)\n",
            "Requirement already satisfied: tensorboard-data-server<0.8.0,>=0.7.0 in /usr/local/lib/python3.10/dist-packages (from tensorboard<2.18,>=2.17->tensorflow) (0.7.2)\n",
            "Requirement already satisfied: werkzeug>=1.0.1 in /usr/local/lib/python3.10/dist-packages (from tensorboard<2.18,>=2.17->tensorflow) (3.1.2)\n",
            "Requirement already satisfied: MarkupSafe>=2.1.1 in /usr/local/lib/python3.10/dist-packages (from werkzeug>=1.0.1->tensorboard<2.18,>=2.17->tensorflow) (3.0.2)\n",
            "Requirement already satisfied: propcache>=0.2.0 in /usr/local/lib/python3.10/dist-packages (from yarl<2.0,>=1.12.0->aiohttp->datasets) (0.2.0)\n",
            "Requirement already satisfied: markdown-it-py>=2.2.0 in /usr/local/lib/python3.10/dist-packages (from rich->keras>=3.2.0->tensorflow) (3.0.0)\n",
            "Requirement already satisfied: pygments<3.0.0,>=2.13.0 in /usr/local/lib/python3.10/dist-packages (from rich->keras>=3.2.0->tensorflow) (2.18.0)\n",
            "Requirement already satisfied: mdurl~=0.1 in /usr/local/lib/python3.10/dist-packages (from markdown-it-py>=2.2.0->rich->keras>=3.2.0->tensorflow) (0.1.2)\n",
            "Num GPUs Available:  1\n",
            "GPU Info: [PhysicalDevice(name='/physical_device:GPU:0', device_type='GPU')]\n"
          ]
        }
      ]
    },
    {
      "cell_type": "code",
      "source": [
        "\n",
        "# 1. Data Loading and Preprocessing\n",
        "def load_and_prepare_data(max_samples=None):\n",
        "    \"\"\"Load and prepare the dataset with optional size limit\"\"\"\n",
        "    dataset = load_dataset('guscastilloa/dbpedia_historical_events')\n",
        "    df = pd.DataFrame(dataset['train'])\n",
        "\n",
        "    if max_samples:\n",
        "        df = df.sample(n=max_samples, random_state=42)\n",
        "\n",
        "    # Combine title and abstract if they exist, otherwise use text\n",
        "    df['processed_text'] = df['text'].apply(lambda x: x[:512])  # Truncate to manage length\n",
        "\n",
        "    return df\n",
        "\n",
        "# 2. Create Train/Val Split\n",
        "def create_train_val_split(df, val_size=0.2):\n",
        "    \"\"\"Create stratified train/validation split\"\"\"\n",
        "    train_df, val_df = train_test_split(\n",
        "        df,\n",
        "        test_size=val_size,\n",
        "        stratify=df['label'],\n",
        "        random_state=42\n",
        "    )\n",
        "    return train_df, val_df\n",
        "\n",
        "# 3. Data Processing\n",
        "class DataProcessor:\n",
        "    def __init__(self, max_length=128):\n",
        "        self.tokenizer = DistilBertTokenizer.from_pretrained('distilbert-base-uncased')\n",
        "        self.max_length = max_length\n",
        "\n",
        "    def prepare_tf_dataset(self, texts, labels, batch_size=32):\n",
        "        \"\"\"Convert to TF Dataset with proper batching and prefetching\"\"\"\n",
        "        encodings = self.tokenizer(\n",
        "            list(texts),\n",
        "            truncation=True,\n",
        "            padding='max_length',\n",
        "            max_length=self.max_length,\n",
        "            return_tensors='tf'\n",
        "        )\n",
        "\n",
        "        dataset = tf.data.Dataset.from_tensor_slices((\n",
        "            {\n",
        "                'input_ids': encodings['input_ids'],\n",
        "                'attention_mask': encodings['attention_mask']\n",
        "            },\n",
        "            labels\n",
        "        ))\n",
        "\n",
        "        return dataset.shuffle(10000).batch(batch_size).prefetch(tf.data.AUTOTUNE)\n",
        "\n",
        "# 4. Model Setup\n",
        "def create_model():\n",
        "    \"\"\"Create and compile the model\"\"\"\n",
        "    model = TFDistilBertForSequenceClassification.from_pretrained(\n",
        "        'distilbert-base-uncased',\n",
        "        num_labels=2\n",
        "    )\n",
        "\n",
        "    #optimizer = create_optimizer(2e-5, num_train_steps=1000, num_warmup_steps=100)\n",
        "    optimizer = tf.keras.optimizers.Adam(learning_rate=2e-5)\n",
        "\n",
        "    model.compile(\n",
        "        optimizer=optimizer,\n",
        "        loss=tf.keras.losses.SparseCategoricalCrossentropy(from_logits=True),\n",
        "        metrics=['accuracy']\n",
        "    )\n",
        "\n",
        "    return model\n",
        "\n",
        "def save_model_weights(model, path):\n",
        "    \"\"\"Save model weights\"\"\"\n",
        "    model.save_weights(path)\n",
        "    print(f\"Model weights saved to {path}\")\n",
        "\n",
        "def load_model_weights(path):\n",
        "    \"\"\"Load model weights into a new model instance\"\"\"\n",
        "    model = create_model()\n",
        "    model.load_weights(path)\n",
        "    return model\n",
        "\n",
        "# 5. Training Function\n",
        "def train_model(model, train_dataset, val_dataset, epochs=3, callbacks = None):\n",
        "    \"\"\"Train the model with callbacks\"\"\"\n",
        "    if callbacks is None:\n",
        "        callbacks = [\n",
        "            tf.keras.callbacks.EarlyStopping(\n",
        "                monitor='val_accuracy',\n",
        "                patience=2,\n",
        "                restore_best_weights=True\n",
        "            )\n",
        "        ]\n",
        "\n",
        "    history = model.fit(\n",
        "        train_dataset,\n",
        "        validation_data=val_dataset,\n",
        "        epochs=epochs,\n",
        "        callbacks=callbacks\n",
        "    )\n",
        "\n",
        "    return history"
      ],
      "metadata": {
        "id": "8uW2NVVQwSKZ"
      },
      "execution_count": null,
      "outputs": []
    },
    {
      "cell_type": "code",
      "source": [
        "# Set up TensorBoard for monitoring\n",
        "log_dir = \"logs/fit/\" + datetime.datetime.now().strftime(\"%Y%m%d-%H%M%S\")\n",
        "tensorboard_callback = tf.keras.callbacks.TensorBoard(\n",
        "    log_dir=log_dir,\n",
        "    histogram_freq=1,\n",
        "    update_freq='epoch'\n",
        ")\n",
        "\n",
        "# Memory monitoring\n",
        "def print_memory_usage():\n",
        "    import psutil\n",
        "    print(f\"RAM Memory Usage: {psutil.Process().memory_info().rss / 1024 / 1024:.2f} MB\")"
      ],
      "metadata": {
        "id": "xoxDXlzHwjYa"
      },
      "execution_count": null,
      "outputs": []
    },
    {
      "cell_type": "code",
      "source": [
        "def main(max_samples=None, batch_size=32, epochs=3):\n",
        "\n",
        "\n",
        "    # Create output directory for model artifacts\n",
        "    from pathlib import Path\n",
        "    output_dir = Path('/content/model_outputs')\n",
        "    output_dir.mkdir(exist_ok=True)\n",
        "\n",
        "\n",
        "    # Load and prepare data\n",
        "    print(\"Loading data...\")\n",
        "    print_memory_usage()\n",
        "    df = load_and_prepare_data(max_samples)\n",
        "    print(f\"Dataset size: {len(df)}\")\n",
        "    print(f\"Label distribution:\\n{df['label'].value_counts(normalize=True)}\")\n",
        "\n",
        "    train_df, val_df = create_train_val_split(df)\n",
        "    print(f\"\\nTrain size: {len(train_df)}, Validation size: {len(val_df)}\")\n",
        "    print_memory_usage()\n",
        "\n",
        "    # Initialize processor\n",
        "    print(\"\\nProcessing data...\")\n",
        "    processor = DataProcessor()\n",
        "    train_dataset = processor.prepare_tf_dataset(\n",
        "        train_df['processed_text'],\n",
        "        train_df['label'],\n",
        "        batch_size\n",
        "    )\n",
        "    val_dataset = processor.prepare_tf_dataset(\n",
        "        val_df['processed_text'],\n",
        "        val_df['label'],\n",
        "        batch_size\n",
        "    )\n",
        "    print_memory_usage()\n",
        "\n",
        "    # Create and train model\n",
        "    print(\"\\nTraining model...\")\n",
        "    model = create_model()\n",
        "\n",
        "    # Add callbacks\n",
        "    callbacks = [\n",
        "        tf.keras.callbacks.EarlyStopping(\n",
        "            monitor='val_accuracy',\n",
        "            patience=2,\n",
        "            restore_best_weights=True\n",
        "        ),\n",
        "        tensorboard_callback,\n",
        "        tf.keras.callbacks.ReduceLROnPlateau(\n",
        "            monitor='val_loss',\n",
        "            factor=0.2,\n",
        "            patience=1\n",
        "        )\n",
        "    ]\n",
        "\n",
        "    history = train_model(model, train_dataset, val_dataset, epochs, callbacks)\n",
        "\n",
        "    # Save model weights and tokenizer\n",
        "    weights_path = output_dir / 'model_weights'\n",
        "    model.save_weights(str(weights_path))\n",
        "    print(f\"Model weights saved to {weights_path}\")\n",
        "\n",
        "    return model, history"
      ],
      "metadata": {
        "id": "ITUrK1chwjrg"
      },
      "execution_count": null,
      "outputs": []
    },
    {
      "cell_type": "code",
      "source": [
        "# Add this as a new cell after the training cell\n",
        "def setup_colab_storage():\n",
        "    \"\"\"Setup storage for model artifacts in Colab\"\"\"\n",
        "    from google.colab import drive\n",
        "    import shutil\n",
        "\n",
        "    # Option 1: Mount Google Drive\n",
        "    print(\"Do you want to mount Google Drive to save model artifacts? (y/n)\")\n",
        "    if input().lower() == 'y':\n",
        "        drive.mount('/content/drive')\n",
        "        output_dir = Path('/content/drive/MyDrive/historical_events_model')\n",
        "        output_dir.mkdir(exist_ok=True)\n",
        "        print(f\"Model artifacts will be saved to: {output_dir}\")\n",
        "        return output_dir\n",
        "\n",
        "    # Option 2: Use local Colab storage with download option\n",
        "    output_dir = Path('/content/model_outputs')\n",
        "    output_dir.mkdir(exist_ok=True)\n",
        "    print(f\"Model artifacts will be saved to: {output_dir}\")\n",
        "    return output_dir\n",
        "\n",
        "def download_model_artifacts(output_dir):\n",
        "    \"\"\"Create downloadable zip of model artifacts\"\"\"\n",
        "    from google.colab import files\n",
        "    import shutil\n",
        "\n",
        "    # Create zip file of model outputs\n",
        "    shutil.make_archive('model_artifacts', 'zip', output_dir)\n",
        "\n",
        "    # Download the zip file\n",
        "    files.download('model_artifacts.zip')"
      ],
      "metadata": {
        "id": "b9dPN51B1obq"
      },
      "execution_count": null,
      "outputs": []
    },
    {
      "cell_type": "code",
      "source": [
        "# Plot test results\n",
        "import matplotlib.pyplot as plt\n",
        "def plot_training_history(history):\n",
        "    \"\"\"Plot training history with proper handling of single-epoch cases\"\"\"\n",
        "    metrics = history.history\n",
        "    epochs = range(1, len(metrics['accuracy']) + 1)\n",
        "\n",
        "    fig, (ax1, ax2) = plt.subplots(1, 2, figsize=(12, 4))\n",
        "\n",
        "    # Accuracy plot\n",
        "    ax1.plot(epochs, metrics['accuracy'], 'bo-', label='Train')\n",
        "    ax1.plot(epochs, metrics['val_accuracy'], 'ro-', label='Validation')\n",
        "    ax1.set_title('Model accuracy')\n",
        "    ax1.set_ylabel('Accuracy')\n",
        "    ax1.set_xlabel('Epoch')\n",
        "    ax1.legend()\n",
        "    ax1.grid(True)\n",
        "\n",
        "    # Loss plot\n",
        "    ax2.plot(epochs, metrics['loss'], 'bo-', label='Train')\n",
        "    ax2.plot(epochs, metrics['val_loss'], 'ro-', label='Validation')\n",
        "    ax2.set_title('Model loss')\n",
        "    ax2.set_ylabel('Loss')\n",
        "    ax2.set_xlabel('Epoch')\n",
        "    ax2.legend()\n",
        "    ax2.grid(True)\n",
        "\n",
        "    plt.tight_layout()\n",
        "    plt.show()\n",
        "\n",
        "    # Print metrics\n",
        "    print(\"\\nFinal metrics:\")\n",
        "    print(f\"Train Accuracy: {metrics['accuracy'][-1]:.4f}\")\n",
        "    print(f\"Validation Accuracy: {metrics['val_accuracy'][-1]:.4f}\")\n",
        "    print(f\"Train Loss: {metrics['loss'][-1]:.4f}\")\n",
        "    print(f\"Validation Loss: {metrics['val_loss'][-1]:.4f}\")"
      ],
      "metadata": {
        "id": "oW5fdz465CFE"
      },
      "execution_count": null,
      "outputs": []
    },
    {
      "cell_type": "code",
      "source": [
        "def predict_historical_event(model, processor, text, show_probabilities=True):\n",
        "    \"\"\"\n",
        "    Make prediction for a single text input\n",
        "\n",
        "    Args:\n",
        "        model: Trained model\n",
        "        processor: DataProcessor instance\n",
        "        text: Input text to classify\n",
        "        show_probabilities: Whether to show class probabilities\n",
        "    \"\"\"\n",
        "    # Prepare the input\n",
        "    inputs = processor.tokenizer(\n",
        "        text,\n",
        "        truncation=True,\n",
        "        padding='max_length',\n",
        "        max_length=processor.max_length,\n",
        "        return_tensors='tf'\n",
        "    )\n",
        "\n",
        "    # Make prediction\n",
        "    outputs = model(inputs)\n",
        "    probabilities = tf.nn.softmax(outputs.logits, axis=-1)\n",
        "    predicted_class = tf.argmax(probabilities, axis=-1)[0]\n",
        "\n",
        "    # Print results\n",
        "    print(f\"\\nInput text: {text}\")\n",
        "    print(f\"Prediction: {'Historical Event' if predicted_class == 1 else 'Not Historical Event'}\")\n",
        "\n",
        "    if show_probabilities:\n",
        "        probs = probabilities[0].numpy()\n",
        "        print(f\"\\nProbabilities:\")\n",
        "        print(f\"Not Historical Event: {probs[0]:.4f}\")\n",
        "        print(f\"Historical Event: {probs[1]:.4f}\")\n",
        "\n",
        "    return predicted_class, probabilities\n"
      ],
      "metadata": {
        "id": "0SERsj6ZtxwU"
      },
      "execution_count": null,
      "outputs": []
    },
    {
      "cell_type": "markdown",
      "source": [
        "## Test run 210.000 samples 5 epochs"
      ],
      "metadata": {
        "id": "1yp0ddvq8iyJ"
      }
    },
    {
      "cell_type": "code",
      "source": [
        "# Let's try with a larger sample but still manageable\n",
        "# This will help us validate if the model maintains performance with more data\n",
        "model, history = main(\n",
        "    max_samples=210000,  # 10x more samples\n",
        "    batch_size=32,      # slightly larger batch\n",
        "    epochs=5           # more epochs to see learning curve\n",
        ")\n",
        "plot_training_history(history)\n",
        "\n",
        "# Download artifacts\n",
        "download_model_artifacts('./output')"
      ],
      "metadata": {
        "colab": {
          "base_uri": "https://localhost:8080/",
          "height": 1000,
          "referenced_widgets": [
            "b4ec1e29169344fb9cbcaa51d5e9fc9d",
            "ce7a459490f0406c878cba80dcaf9754",
            "062cd5501a474ae6ad3c0da41f787809",
            "5de610449c7d45928dfd6bf659dc4b1f",
            "49fa6d1a48094e52925f8a5e7e4a0ec7",
            "d8bf51cf0c004820bf1c7d5faa19a44d",
            "91776ac9056b4fc9825b90d7c2173dbe",
            "9f049e74edaa4b90be293b3f66f3a090",
            "bf1c131cab6349f99580a6fdc142ebfe",
            "02092cef4f5d4fa8b7ab4761b5a1142d",
            "334aa285eee044cb95957b7b043bee39"
          ]
        },
        "id": "KmbO0bNN8jN3",
        "outputId": "7b53b6be-940b-4fd2-f241-df75d8dacbe2"
      },
      "execution_count": null,
      "outputs": [
        {
          "output_type": "stream",
          "name": "stdout",
          "text": [
            "Loading data...\n",
            "RAM Memory Usage: 1036.21 MB\n"
          ]
        },
        {
          "output_type": "stream",
          "name": "stderr",
          "text": [
            "/usr/local/lib/python3.10/dist-packages/huggingface_hub/utils/_token.py:89: UserWarning: \n",
            "The secret `HF_TOKEN` does not exist in your Colab secrets.\n",
            "To authenticate with the Hugging Face Hub, create a token in your settings tab (https://huggingface.co/settings/tokens), set it as secret in your Google Colab and restart your session.\n",
            "You will be able to reuse this secret in all of your notebooks.\n",
            "Please note that authentication is recommended but still optional to access public models or datasets.\n",
            "  warnings.warn(\n"
          ]
        },
        {
          "output_type": "stream",
          "name": "stdout",
          "text": [
            "Dataset size: 210000\n",
            "Label distribution:\n",
            "label\n",
            "0    0.513538\n",
            "1    0.486462\n",
            "Name: proportion, dtype: float64\n",
            "\n",
            "Train size: 168000, Validation size: 42000\n",
            "RAM Memory Usage: 1359.40 MB\n",
            "\n",
            "Processing data...\n"
          ]
        },
        {
          "output_type": "stream",
          "name": "stderr",
          "text": [
            "/usr/local/lib/python3.10/dist-packages/transformers/tokenization_utils_base.py:1601: FutureWarning: `clean_up_tokenization_spaces` was not set. It will be set to `True` by default. This behavior will be depracted in transformers v4.45, and will be then set to `False` by default. For more details check this issue: https://github.com/huggingface/transformers/issues/31884\n",
            "  warnings.warn(\n"
          ]
        },
        {
          "output_type": "stream",
          "name": "stdout",
          "text": [
            "RAM Memory Usage: 2162.52 MB\n",
            "\n",
            "Training model...\n"
          ]
        },
        {
          "output_type": "display_data",
          "data": {
            "text/plain": [
              "model.safetensors:   0%|          | 0.00/268M [00:00<?, ?B/s]"
            ],
            "application/vnd.jupyter.widget-view+json": {
              "version_major": 2,
              "version_minor": 0,
              "model_id": "b4ec1e29169344fb9cbcaa51d5e9fc9d"
            }
          },
          "metadata": {}
        },
        {
          "output_type": "stream",
          "name": "stderr",
          "text": [
            "Some weights of the PyTorch model were not used when initializing the TF 2.0 model TFDistilBertForSequenceClassification: ['vocab_transform.bias', 'vocab_layer_norm.weight', 'vocab_projector.bias', 'vocab_layer_norm.bias', 'vocab_transform.weight']\n",
            "- This IS expected if you are initializing TFDistilBertForSequenceClassification from a PyTorch model trained on another task or with another architecture (e.g. initializing a TFBertForSequenceClassification model from a BertForPreTraining model).\n",
            "- This IS NOT expected if you are initializing TFDistilBertForSequenceClassification from a PyTorch model that you expect to be exactly identical (e.g. initializing a TFBertForSequenceClassification model from a BertForSequenceClassification model).\n",
            "Some weights or buffers of the TF 2.0 model TFDistilBertForSequenceClassification were not initialized from the PyTorch model and are newly initialized: ['pre_classifier.weight', 'pre_classifier.bias', 'classifier.weight', 'classifier.bias']\n",
            "You should probably TRAIN this model on a down-stream task to be able to use it for predictions and inference.\n"
          ]
        },
        {
          "output_type": "stream",
          "name": "stdout",
          "text": [
            "Epoch 1/5\n",
            "5250/5250 [==============================] - 2362s 445ms/step - loss: 0.0184 - accuracy: 0.9954 - val_loss: 0.0106 - val_accuracy: 0.9971 - lr: 2.0000e-05\n",
            "Epoch 2/5\n",
            "5250/5250 [==============================] - 2326s 443ms/step - loss: 0.0085 - accuracy: 0.9979 - val_loss: 0.0143 - val_accuracy: 0.9971 - lr: 2.0000e-05\n",
            "Epoch 3/5\n",
            "5250/5250 [==============================] - 2327s 443ms/step - loss: 0.0044 - accuracy: 0.9989 - val_loss: 0.0104 - val_accuracy: 0.9975 - lr: 4.0000e-06\n",
            "Epoch 4/5\n",
            "5250/5250 [==============================] - 2327s 443ms/step - loss: 0.0031 - accuracy: 0.9992 - val_loss: 0.0115 - val_accuracy: 0.9974 - lr: 4.0000e-06\n",
            "Epoch 5/5\n",
            "5250/5250 [==============================] - 2327s 443ms/step - loss: 0.0020 - accuracy: 0.9993 - val_loss: 0.0126 - val_accuracy: 0.9976 - lr: 8.0000e-07\n",
            "Model weights saved to /content/model_outputs/model_weights\n"
          ]
        },
        {
          "output_type": "display_data",
          "data": {
            "text/plain": [
              "<Figure size 1200x400 with 2 Axes>"
            ],
            "image/png": "[encoded data removed]"
          },
          "metadata": {}
        },
        {
          "output_type": "stream",
          "name": "stdout",
          "text": [
            "\n",
            "Final metrics:\n",
            "Train Accuracy: 0.9993\n",
            "Validation Accuracy: 0.9976\n",
            "Train Loss: 0.0020\n",
            "Validation Loss: 0.0126\n"
          ]
        },
        {
          "output_type": "error",
          "ename": "NameError",
          "evalue": "name 'output_dir' is not defined",
          "traceback": [
            "\u001b[0;31m---------------------------------------------------------------------------\u001b[0m",
            "\u001b[0;31mNameError\u001b[0m                                 Traceback (most recent call last)",
            "\u001b[0;32m<ipython-input-8-b8baf4e6aae2>\u001b[0m in \u001b[0;36m<cell line: 11>\u001b[0;34m()\u001b[0m\n\u001b[1;32m      9\u001b[0m \u001b[0;34m\u001b[0m\u001b[0m\n\u001b[1;32m     10\u001b[0m \u001b[0;31m# Download artifacts\u001b[0m\u001b[0;34m\u001b[0m\u001b[0;34m\u001b[0m\u001b[0m\n\u001b[0;32m---> 11\u001b[0;31m \u001b[0mdownload_model_artifacts\u001b[0m\u001b[0;34m(\u001b[0m\u001b[0moutput_dir\u001b[0m\u001b[0;34m)\u001b[0m\u001b[0;34m\u001b[0m\u001b[0;34m\u001b[0m\u001b[0m\n\u001b[0m",
            "\u001b[0;31mNameError\u001b[0m: name 'output_dir' is not defined"
          ]
        }
      ]
    },
    {
      "cell_type": "code",
      "source": [
        "download_model_artifacts('./')"
      ],
      "metadata": {
        "id": "115SrxeLwUq2",
        "outputId": "0644e672-d905-407e-fd29-69138ab7bd92",
        "colab": {
          "base_uri": "https://localhost:8080/",
          "height": 37
        }
      },
      "execution_count": null,
      "outputs": [
        {
          "output_type": "display_data",
          "data": {
            "text/plain": [
              "<IPython.core.display.Javascript object>"
            ],
            "application/javascript": [
              "\n",
              "    async function download(id, filename, size) {\n",
              "      if (!google.colab.kernel.accessAllowed) {\n",
              "        return;\n",
              "      }\n",
              "      const div = document.createElement('div');\n",
              "      const label = document.createElement('label');\n",
              "      label.textContent = `Downloading \"${filename}\": `;\n",
              "      div.appendChild(label);\n",
              "      const progress = document.createElement('progress');\n",
              "      progress.max = size;\n",
              "      div.appendChild(progress);\n",
              "      document.body.appendChild(div);\n",
              "\n",
              "      const buffers = [];\n",
              "      let downloaded = 0;\n",
              "\n",
              "      const channel = await google.colab.kernel.comms.open(id);\n",
              "      // Send a message to notify the kernel that we're ready.\n",
              "      channel.send({})\n",
              "\n",
              "      for await (const message of channel.messages) {\n",
              "        // Send a message to notify the kernel that we're ready.\n",
              "        channel.send({})\n",
              "        if (message.buffers) {\n",
              "          for (const buffer of message.buffers) {\n",
              "            buffers.push(buffer);\n",
              "            downloaded += buffer.byteLength;\n",
              "            progress.value = downloaded;\n",
              "          }\n",
              "        }\n",
              "      }\n",
              "      const blob = new Blob(buffers, {type: 'application/binary'});\n",
              "      const a = document.createElement('a');\n",
              "      a.href = window.URL.createObjectURL(blob);\n",
              "      a.download = filename;\n",
              "      div.appendChild(a);\n",
              "      a.click();\n",
              "      div.remove();\n",
              "    }\n",
              "  "
            ]
          },
          "metadata": {}
        },
        {
          "output_type": "display_data",
          "data": {
            "text/plain": [
              "<IPython.core.display.Javascript object>"
            ],
            "application/javascript": [
              "download(\"download_20665c06-ed26-47f2-9385-92f78650c628\", \"model_artifacts.zip\", 728941406)"
            ]
          },
          "metadata": {}
        }
      ]
    },
    {
      "cell_type": "markdown",
      "source": [
        "# **Testing the model with random Wikipedia abstracts**"
      ],
      "metadata": {
        "id": "p-mBd3ZSjH2h"
      }
    },
    {
      "cell_type": "code",
      "source": [
        "processor = DataProcessor()\n",
        "predict_historical_event(model, processor ,\"The Battle of the Bulge, also known as the Ardennes Offensive, was the last major German offensive campaign on the Western Front during the Second World War which took place from 16 December 1944 to 25 January 1945.[16] It was launched through the densely forested Ardennes region between Belgium and Luxembourg. The offensive was intended to stop Allied use of the Belgian port of Antwerp and to split the Allied lines, allowing the Germans to encircle and destroy each of the four Allied armies and force the western Allies to negotiate a peace treaty in the Axis powers' favour.\")"
      ],
      "metadata": {
        "id": "UF-1sIzJfBPq",
        "outputId": "7084aeff-ec9d-4135-e0d2-b7a949d60a10",
        "colab": {
          "base_uri": "https://localhost:8080/"
        }
      },
      "execution_count": null,
      "outputs": [
        {
          "output_type": "stream",
          "name": "stdout",
          "text": [
            "\n",
            "Input text: The Battle of the Bulge, also known as the Ardennes Offensive, was the last major German offensive campaign on the Western Front during the Second World War which took place from 16 December 1944 to 25 January 1945.[16] It was launched through the densely forested Ardennes region between Belgium and Luxembourg. The offensive was intended to stop Allied use of the Belgian port of Antwerp and to split the Allied lines, allowing the Germans to encircle and destroy each of the four Allied armies and force the western Allies to negotiate a peace treaty in the Axis powers' favour.\n",
            "Prediction: Historical Event\n",
            "\n",
            "Probabilities:\n",
            "Not Historical Event: 0.0001\n",
            "Historical Event: 0.9999\n"
          ]
        },
        {
          "output_type": "execute_result",
          "data": {
            "text/plain": [
              "(<tf.Tensor: shape=(), dtype=int64, numpy=1>,\n",
              " <tf.Tensor: shape=(1, 2), dtype=float32, numpy=array([[7.5944074e-05, 9.9992406e-01]], dtype=float32)>)"
            ]
          },
          "metadata": {},
          "execution_count": 17
        }
      ]
    },
    {
      "cell_type": "code",
      "source": [
        "predict_historical_event(model, processor ,\"Westfield Fountain Gate is a super-regional shopping centre located in Narre Warren in the south-eastern suburbs of Melbourne, Australia. It is the second largest shopping centre in Australia by both floor area and number of anchor tenants. However, it is the largest shopping centre in Australia with all 3 discount department stores, Big W, Target and Kmart. \")"
      ],
      "metadata": {
        "id": "CTTSakegjUVC",
        "outputId": "c75c2cd9-5763-4831-cee0-9c3d471971cf",
        "colab": {
          "base_uri": "https://localhost:8080/"
        }
      },
      "execution_count": null,
      "outputs": [
        {
          "output_type": "stream",
          "name": "stdout",
          "text": [
            "\n",
            "Input text: Westfield Fountain Gate is a super-regional shopping centre located in Narre Warren in the south-eastern suburbs of Melbourne, Australia. It is the second largest shopping centre in Australia by both floor area and number of anchor tenants. However, it is the largest shopping centre in Australia with all 3 discount department stores, Big W, Target and Kmart. \n",
            "Prediction: Not Historical Event\n",
            "\n",
            "Probabilities:\n",
            "Not Historical Event: 1.0000\n",
            "Historical Event: 0.0000\n"
          ]
        },
        {
          "output_type": "execute_result",
          "data": {
            "text/plain": [
              "(<tf.Tensor: shape=(), dtype=int64, numpy=0>,\n",
              " <tf.Tensor: shape=(1, 2), dtype=float32, numpy=array([[9.9995232e-01, 4.7670732e-05]], dtype=float32)>)"
            ]
          },
          "metadata": {},
          "execution_count": 18
        }
      ]
    },
    {
      "cell_type": "code",
      "source": [
        "predict_historical_event(model, processor ,\"Blue is one of the three primary colours in the RYB colour model (traditional colour theory), as well as in the RGB (additive) colour model.[2] It lies between violet and cyan on the spectrum of visible light. The term blue generally describes colours perceived by humans observing light with a dominant wavelength that's between approximately 450 and 495 nanometres. Most blues contain a slight mixture of other colours; azure contains some green, while ultramarine contains some violet. The clear daytime sky and the deep sea appear blue because of an optical effect known as Rayleigh scattering. An optical effect called the Tyndall effect explains blue eyes. Distant objects appear more blue because of another optical effect called aerial perspective. \")"
      ],
      "metadata": {
        "id": "hhNBLJ5Wjq7D",
        "outputId": "940c0092-0580-42fc-be7b-de532ee26686",
        "colab": {
          "base_uri": "https://localhost:8080/"
        }
      },
      "execution_count": null,
      "outputs": [
        {
          "output_type": "stream",
          "name": "stdout",
          "text": [
            "\n",
            "Input text: Blue is one of the three primary colours in the RYB colour model (traditional colour theory), as well as in the RGB (additive) colour model.[2] It lies between violet and cyan on the spectrum of visible light. The term blue generally describes colours perceived by humans observing light with a dominant wavelength that's between approximately 450 and 495 nanometres. Most blues contain a slight mixture of other colours; azure contains some green, while ultramarine contains some violet. The clear daytime sky and the deep sea appear blue because of an optical effect known as Rayleigh scattering. An optical effect called the Tyndall effect explains blue eyes. Distant objects appear more blue because of another optical effect called aerial perspective. \n",
            "Prediction: Not Historical Event\n",
            "\n",
            "Probabilities:\n",
            "Not Historical Event: 0.9999\n",
            "Historical Event: 0.0001\n"
          ]
        },
        {
          "output_type": "execute_result",
          "data": {
            "text/plain": [
              "(<tf.Tensor: shape=(), dtype=int64, numpy=0>,\n",
              " <tf.Tensor: shape=(1, 2), dtype=float32, numpy=array([[9.9992085e-01, 7.9134494e-05]], dtype=float32)>)"
            ]
          },
          "metadata": {},
          "execution_count": 19
        }
      ]
    },
    {
      "cell_type": "code",
      "source": [
        "predict_historical_event(model, processor ,\"The Battle of the Little Bighorn, known to the Lakota and other Plains Indians as the Battle of the Greasy Grass,[1][2] and commonly referred to as Custers Last Stand, was an armed engagement between combined forces of the Lakota Sioux, Northern Cheyenne, and Arapaho tribes and the 7th Cavalry Regiment of the United States Army. It took place on June 25–26, 1876, along the Little Bighorn River in the Crow Indian Reservation in southeastern Montana Territory. The battle, which resulted in the defeat of U.S. forces, was the most significant action of the Great Sioux War of 1876.[3]\")"
      ],
      "metadata": {
        "id": "aT3ntIhjkL87",
        "outputId": "6b3c8aac-d27c-45bf-c810-c0d417e82432",
        "colab": {
          "base_uri": "https://localhost:8080/"
        }
      },
      "execution_count": null,
      "outputs": [
        {
          "output_type": "stream",
          "name": "stdout",
          "text": [
            "\n",
            "Input text: The Battle of the Little Bighorn, known to the Lakota and other Plains Indians as the Battle of the Greasy Grass,[1][2] and commonly referred to as Custers Last Stand, was an armed engagement between combined forces of the Lakota Sioux, Northern Cheyenne, and Arapaho tribes and the 7th Cavalry Regiment of the United States Army. It took place on June 25–26, 1876, along the Little Bighorn River in the Crow Indian Reservation in southeastern Montana Territory. The battle, which resulted in the defeat of U.S. forces, was the most significant action of the Great Sioux War of 1876.[3]\n",
            "Prediction: Historical Event\n",
            "\n",
            "Probabilities:\n",
            "Not Historical Event: 0.0000\n",
            "Historical Event: 1.0000\n"
          ]
        },
        {
          "output_type": "execute_result",
          "data": {
            "text/plain": [
              "(<tf.Tensor: shape=(), dtype=int64, numpy=1>,\n",
              " <tf.Tensor: shape=(1, 2), dtype=float32, numpy=array([[2.5836787e-05, 9.9997413e-01]], dtype=float32)>)"
            ]
          },
          "metadata": {},
          "execution_count": 21
        }
      ]
    }
  ],
  "metadata": {
    "accelerator": "GPU",
    "colab": {
      "gpuType": "T4",
      "provenance": [],
      "collapsed_sections": [
        "qiwPnfbpORB_",
        "vca_I1uLuDUq",
        "9FEz5ton8UnC",
        "1yp0ddvq8iyJ"
      ],
      "toc_visible": true
    },
    "kernelspec": {
      "display_name": "Python 3",
      "name": "python3"
    },
    "language_info": {
      "name": "python",
      "version": "3.9.16"
    },
    "widgets": {
      "application/vnd.jupyter.widget-state+json": {
        "b4ec1e29169344fb9cbcaa51d5e9fc9d": {
          "model_module": "@jupyter-widgets/controls",
          "model_name": "HBoxModel",
          "model_module_version": "1.5.0",
          "state": {
            "_dom_classes": [],
            "_model_module": "@jupyter-widgets/controls",
            "_model_module_version": "1.5.0",
            "_model_name": "HBoxModel",
            "_view_count": null,
            "_view_module": "@jupyter-widgets/controls",
            "_view_module_version": "1.5.0",
            "_view_name": "HBoxView",
            "box_style": "",
            "children": [
              "IPY_MODEL_ce7a459490f0406c878cba80dcaf9754",
              "IPY_MODEL_062cd5501a474ae6ad3c0da41f787809",
              "IPY_MODEL_5de610449c7d45928dfd6bf659dc4b1f"
            ],
            "layout": "IPY_MODEL_49fa6d1a48094e52925f8a5e7e4a0ec7"
          }
        },
        "ce7a459490f0406c878cba80dcaf9754": {
          "model_module": "@jupyter-widgets/controls",
          "model_name": "HTMLModel",
          "model_module_version": "1.5.0",
          "state": {
            "_dom_classes": [],
            "_model_module": "@jupyter-widgets/controls",
            "_model_module_version": "1.5.0",
            "_model_name": "HTMLModel",
            "_view_count": null,
            "_view_module": "@jupyter-widgets/controls",
            "_view_module_version": "1.5.0",
            "_view_name": "HTMLView",
            "description": "",
            "description_tooltip": null,
            "layout": "IPY_MODEL_d8bf51cf0c004820bf1c7d5faa19a44d",
            "placeholder": "​",
            "style": "IPY_MODEL_91776ac9056b4fc9825b90d7c2173dbe",
            "value": "model.safetensors: 100%"
          }
        },
        "062cd5501a474ae6ad3c0da41f787809": {
          "model_module": "@jupyter-widgets/controls",
          "model_name": "FloatProgressModel",
          "model_module_version": "1.5.0",
          "state": {
            "_dom_classes": [],
            "_model_module": "@jupyter-widgets/controls",
            "_model_module_version": "1.5.0",
            "_model_name": "FloatProgressModel",
            "_view_count": null,
            "_view_module": "@jupyter-widgets/controls",
            "_view_module_version": "1.5.0",
            "_view_name": "ProgressView",
            "bar_style": "success",
            "description": "",
            "description_tooltip": null,
            "layout": "IPY_MODEL_9f049e74edaa4b90be293b3f66f3a090",
            "max": 267954768,
            "min": 0,
            "orientation": "horizontal",
            "style": "IPY_MODEL_bf1c131cab6349f99580a6fdc142ebfe",
            "value": 267954768
          }
        },
        "5de610449c7d45928dfd6bf659dc4b1f": {
          "model_module": "@jupyter-widgets/controls",
          "model_name": "HTMLModel",
          "model_module_version": "1.5.0",
          "state": {
            "_dom_classes": [],
            "_model_module": "@jupyter-widgets/controls",
            "_model_module_version": "1.5.0",
            "_model_name": "HTMLModel",
            "_view_count": null,
            "_view_module": "@jupyter-widgets/controls",
            "_view_module_version": "1.5.0",
            "_view_name": "HTMLView",
            "description": "",
            "description_tooltip": null,
            "layout": "IPY_MODEL_02092cef4f5d4fa8b7ab4761b5a1142d",
            "placeholder": "​",
            "style": "IPY_MODEL_334aa285eee044cb95957b7b043bee39",
            "value": " 268M/268M [00:01&lt;00:00, 211MB/s]"
          }
        },
        "49fa6d1a48094e52925f8a5e7e4a0ec7": {
          "model_module": "@jupyter-widgets/base",
          "model_name": "LayoutModel",
          "model_module_version": "1.2.0",
          "state": {
            "_model_module": "@jupyter-widgets/base",
            "_model_module_version": "1.2.0",
            "_model_name": "LayoutModel",
            "_view_count": null,
            "_view_module": "@jupyter-widgets/base",
            "_view_module_version": "1.2.0",
            "_view_name": "LayoutView",
            "align_content": null,
            "align_items": null,
            "align_self": null,
            "border": null,
            "bottom": null,
            "display": null,
            "flex": null,
            "flex_flow": null,
            "grid_area": null,
            "grid_auto_columns": null,
            "grid_auto_flow": null,
            "grid_auto_rows": null,
            "grid_column": null,
            "grid_gap": null,
            "grid_row": null,
            "grid_template_areas": null,
            "grid_template_columns": null,
            "grid_template_rows": null,
            "height": null,
            "justify_content": null,
            "justify_items": null,
            "left": null,
            "margin": null,
            "max_height": null,
            "max_width": null,
            "min_height": null,
            "min_width": null,
            "object_fit": null,
            "object_position": null,
            "order": null,
            "overflow": null,
            "overflow_x": null,
            "overflow_y": null,
            "padding": null,
            "right": null,
            "top": null,
            "visibility": null,
            "width": null
          }
        },
        "d8bf51cf0c004820bf1c7d5faa19a44d": {
          "model_module": "@jupyter-widgets/base",
          "model_name": "LayoutModel",
          "model_module_version": "1.2.0",
          "state": {
            "_model_module": "@jupyter-widgets/base",
            "_model_module_version": "1.2.0",
            "_model_name": "LayoutModel",
            "_view_count": null,
            "_view_module": "@jupyter-widgets/base",
            "_view_module_version": "1.2.0",
            "_view_name": "LayoutView",
            "align_content": null,
            "align_items": null,
            "align_self": null,
            "border": null,
            "bottom": null,
            "display": null,
            "flex": null,
            "flex_flow": null,
            "grid_area": null,
            "grid_auto_columns": null,
            "grid_auto_flow": null,
            "grid_auto_rows": null,
            "grid_column": null,
            "grid_gap": null,
            "grid_row": null,
            "grid_template_areas": null,
            "grid_template_columns": null,
            "grid_template_rows": null,
            "height": null,
            "justify_content": null,
            "justify_items": null,
            "left": null,
            "margin": null,
            "max_height": null,
            "max_width": null,
            "min_height": null,
            "min_width": null,
            "object_fit": null,
            "object_position": null,
            "order": null,
            "overflow": null,
            "overflow_x": null,
            "overflow_y": null,
            "padding": null,
            "right": null,
            "top": null,
            "visibility": null,
            "width": null
          }
        },
        "91776ac9056b4fc9825b90d7c2173dbe": {
          "model_module": "@jupyter-widgets/controls",
          "model_name": "DescriptionStyleModel",
          "model_module_version": "1.5.0",
          "state": {
            "_model_module": "@jupyter-widgets/controls",
            "_model_module_version": "1.5.0",
            "_model_name": "DescriptionStyleModel",
            "_view_count": null,
            "_view_module": "@jupyter-widgets/base",
            "_view_module_version": "1.2.0",
            "_view_name": "StyleView",
            "description_width": ""
          }
        },
        "9f049e74edaa4b90be293b3f66f3a090": {
          "model_module": "@jupyter-widgets/base",
          "model_name": "LayoutModel",
          "model_module_version": "1.2.0",
          "state": {
            "_model_module": "@jupyter-widgets/base",
            "_model_module_version": "1.2.0",
            "_model_name": "LayoutModel",
            "_view_count": null,
            "_view_module": "@jupyter-widgets/base",
            "_view_module_version": "1.2.0",
            "_view_name": "LayoutView",
            "align_content": null,
            "align_items": null,
            "align_self": null,
            "border": null,
            "bottom": null,
            "display": null,
            "flex": null,
            "flex_flow": null,
            "grid_area": null,
            "grid_auto_columns": null,
            "grid_auto_flow": null,
            "grid_auto_rows": null,
            "grid_column": null,
            "grid_gap": null,
            "grid_row": null,
            "grid_template_areas": null,
            "grid_template_columns": null,
            "grid_template_rows": null,
            "height": null,
            "justify_content": null,
            "justify_items": null,
            "left": null,
            "margin": null,
            "max_height": null,
            "max_width": null,
            "min_height": null,
            "min_width": null,
            "object_fit": null,
            "object_position": null,
            "order": null,
            "overflow": null,
            "overflow_x": null,
            "overflow_y": null,
            "padding": null,
            "right": null,
            "top": null,
            "visibility": null,
            "width": null
          }
        },
        "bf1c131cab6349f99580a6fdc142ebfe": {
          "model_module": "@jupyter-widgets/controls",
          "model_name": "ProgressStyleModel",
          "model_module_version": "1.5.0",
          "state": {
            "_model_module": "@jupyter-widgets/controls",
            "_model_module_version": "1.5.0",
            "_model_name": "ProgressStyleModel",
            "_view_count": null,
            "_view_module": "@jupyter-widgets/base",
            "_view_module_version": "1.2.0",
            "_view_name": "StyleView",
            "bar_color": null,
            "description_width": ""
          }
        },
        "02092cef4f5d4fa8b7ab4761b5a1142d": {
          "model_module": "@jupyter-widgets/base",
          "model_name": "LayoutModel",
          "model_module_version": "1.2.0",
          "state": {
            "_model_module": "@jupyter-widgets/base",
            "_model_module_version": "1.2.0",
            "_model_name": "LayoutModel",
            "_view_count": null,
            "_view_module": "@jupyter-widgets/base",
            "_view_module_version": "1.2.0",
            "_view_name": "LayoutView",
            "align_content": null,
            "align_items": null,
            "align_self": null,
            "border": null,
            "bottom": null,
            "display": null,
            "flex": null,
            "flex_flow": null,
            "grid_area": null,
            "grid_auto_columns": null,
            "grid_auto_flow": null,
            "grid_auto_rows": null,
            "grid_column": null,
            "grid_gap": null,
            "grid_row": null,
            "grid_template_areas": null,
            "grid_template_columns": null,
            "grid_template_rows": null,
            "height": null,
            "justify_content": null,
            "justify_items": null,
            "left": null,
            "margin": null,
            "max_height": null,
            "max_width": null,
            "min_height": null,
            "min_width": null,
            "object_fit": null,
            "object_position": null,
            "order": null,
            "overflow": null,
            "overflow_x": null,
            "overflow_y": null,
            "padding": null,
            "right": null,
            "top": null,
            "visibility": null,
            "width": null
          }
        },
        "334aa285eee044cb95957b7b043bee39": {
          "model_module": "@jupyter-widgets/controls",
          "model_name": "DescriptionStyleModel",
          "model_module_version": "1.5.0",
          "state": {
            "_model_module": "@jupyter-widgets/controls",
            "_model_module_version": "1.5.0",
            "_model_name": "DescriptionStyleModel",
            "_view_count": null,
            "_view_module": "@jupyter-widgets/base",
            "_view_module_version": "1.2.0",
            "_view_name": "StyleView",
            "description_width": ""
          }
        }
      }
    }
  },
  "nbformat": 4,
  "nbformat_minor": 0
}